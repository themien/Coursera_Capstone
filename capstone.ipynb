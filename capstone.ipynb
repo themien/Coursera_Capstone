{
 "cells": [
  {
   "cell_type": "markdown",
   "metadata": {},
   "source": [
    "# Capstone Project"
   ]
  },
  {
   "cell_type": "markdown",
   "metadata": {},
   "source": [
    "This notebook caintains the capstone project for the IBM Data Science Professional certificate."
   ]
  },
  {
   "cell_type": "markdown",
   "metadata": {},
   "source": [
    "<b>TABLE OF CONTENTS</b>\n",
    "\n",
    "<div class=\"alert alert-block alert-info\" style=\"margin-top: 20px\">\n",
    "    <ol>\n",
    "        <li><a href=\"#about_dataset\">About the dataset</a></li>\n",
    "        <li><a href=\"#preprocessing\">Data pre-processing and selection</a></li>\n",
    "        <li><a href=\"#modeling\">Modeling</a></li>\n",
    "        <li><a href=\"#evaluation\">Evaluation</a></li>\n",
    "    </ol>\n",
    "</div>"
   ]
  },
  {
   "cell_type": "code",
   "execution_count": 1,
   "metadata": {},
   "outputs": [],
   "source": [
    "import folium\n",
    "import json\n",
    "import numpy as np\n",
    "import pandas as pd\n",
    "pd.set_option('display.max_columns', None)\n",
    "pd.set_option('display.max_rows', None)\n",
    "import requests\n",
    "\n",
    "from geopy.geocoders import Nominatim\n",
    "\n",
    "from IPython.display import Image \n",
    "from IPython.core.display import HTML \n",
    "    \n",
    "# tranforming json file into a pandas dataframe library\n",
    "from pandas.io.json import json_normalize"
   ]
  },
  {
   "cell_type": "code",
   "execution_count": 2,
   "metadata": {},
   "outputs": [
    {
     "name": "stdout",
     "output_type": "stream",
     "text": [
      "Hello Capstone project Course!\n"
     ]
    }
   ],
   "source": [
    "print('Hello Capstone project Course!')"
   ]
  },
  {
   "cell_type": "code",
   "execution_count": 5,
   "metadata": {},
   "outputs": [],
   "source": [
    "url = 'https://api.foursquare.com/v2/venues/explore'\n",
    "\n",
    "params = {client_id='0IUOF1N0TRY5FIIM0MJVLBQ5OTP501CP4YRSQVNV5RGP34XI',\n",
    "          client_secret='3IKUAHGORFJLG5S3ZLM3O0RH1DMT1YBKHWMNJZOP2HBYOUNV',\n",
    "          v='20180323',\n",
    "          ll='40.7243,-74.0018',\n",
    "          query='coffee'}\n",
    "\n",
    "resp = requests.get(url=url, params=params)\n",
    "data = json.loads(resp.text)"
   ]
  },
  {
   "cell_type": "code",
   "execution_count": 6,
   "metadata": {},
   "outputs": [
    {
     "data": {
      "text/plain": [
       "{'meta': {'code': 200, 'requestId': '5edb7dec0a2972001b9f36c0'},\n",
       " 'response': {'venues': [{'id': '4876216df964a52011511fe3',\n",
       "    'name': \"Jack's Stir Brew Coffee\",\n",
       "    'contact': {},\n",
       "    'location': {'address': '138 W 10th St',\n",
       "     'crossStreet': 'btwn Greenwich Ave & Waverly Pl',\n",
       "     'lat': 40.73451,\n",
       "     'lng': -74.00062,\n",
       "     'labeledLatLngs': [{'label': 'display',\n",
       "       'lat': 40.73451,\n",
       "       'lng': -74.00062}],\n",
       "     'distance': 1140,\n",
       "     'postalCode': '10014',\n",
       "     'cc': 'US',\n",
       "     'city': 'New York',\n",
       "     'state': 'NY',\n",
       "     'country': 'United States',\n",
       "     'formattedAddress': ['138 W 10th St (btwn Greenwich Ave & Waverly Pl)',\n",
       "      'New York, NY 10014',\n",
       "      'United States']},\n",
       "    'categories': [{'id': '4bf58dd8d48988d1e0931735',\n",
       "      'name': 'Coffee Shop',\n",
       "      'pluralName': 'Coffee Shops',\n",
       "      'shortName': 'Coffee Shop',\n",
       "      'icon': {'prefix': 'https://ss3.4sqi.net/img/categories_v2/food/coffeeshop_',\n",
       "       'suffix': '.png'},\n",
       "      'primary': True}],\n",
       "    'verified': True,\n",
       "    'stats': {'tipCount': 0,\n",
       "     'usersCount': 0,\n",
       "     'checkinsCount': 0,\n",
       "     'visitsCount': 0},\n",
       "    'beenHere': {'count': 0,\n",
       "     'lastCheckinExpiredAt': 0,\n",
       "     'marked': False,\n",
       "     'unconfirmedCount': 0},\n",
       "    'venuePage': {'id': '161474147'},\n",
       "    'hereNow': {'count': 0, 'summary': 'Nobody here', 'groups': []},\n",
       "    'referralId': 'v-1591443112',\n",
       "    'venueChains': [],\n",
       "    'hasPerk': False}]}}"
      ]
     },
     "execution_count": 6,
     "metadata": {},
     "output_type": "execute_result"
    }
   ],
   "source": [
    "data"
   ]
  },
  {
   "cell_type": "code",
   "execution_count": null,
   "metadata": {},
   "outputs": [],
   "source": []
  }
 ],
 "metadata": {
  "kernelspec": {
   "display_name": "Python 3",
   "language": "python",
   "name": "python3"
  },
  "language_info": {
   "codemirror_mode": {
    "name": "ipython",
    "version": 3
   },
   "file_extension": ".py",
   "mimetype": "text/x-python",
   "name": "python",
   "nbconvert_exporter": "python",
   "pygments_lexer": "ipython3",
   "version": "3.8.3"
  }
 },
 "nbformat": 4,
 "nbformat_minor": 4
}
